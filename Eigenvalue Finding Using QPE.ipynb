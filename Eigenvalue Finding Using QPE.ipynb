{
 "cells": [
  {
   "cell_type": "code",
   "execution_count": 18,
   "id": "ae2363a8",
   "metadata": {},
   "outputs": [],
   "source": [
    "from qiskit import *\n",
    "from qiskit.quantum_info import *\n",
    "from qiskit.circuit.library import *\n",
    "from qiskit.visualization import *\n",
    "import numpy as np\n",
    "from qiskit.primitives import Sampler\n",
    "from qiskit_ibm_runtime import QiskitRuntimeService, Session, Sampler, Estimator, Options"
   ]
  },
  {
   "cell_type": "code",
   "execution_count": 19,
   "id": "ce03d162",
   "metadata": {},
   "outputs": [],
   "source": [
    "service= QiskitRuntimeService(channel=\"ibm_quantum\")\n",
    "backend=service.backend('ibmq_qasm_simulator')\n",
    "with Session(backend=backend) as session:\n",
    "    sampler=Sampler(session=session)"
   ]
  },
  {
   "cell_type": "code",
   "execution_count": 20,
   "id": "c51ceeaf",
   "metadata": {},
   "outputs": [
    {
     "data": {
      "text/plain": [
       "<IBMBackend('simulator_stabilizer')>"
      ]
     },
     "execution_count": 20,
     "metadata": {},
     "output_type": "execute_result"
    }
   ],
   "source": [
    "service.least_busy()"
   ]
  },
  {
   "cell_type": "code",
   "execution_count": 21,
   "id": "c178e0d7",
   "metadata": {},
   "outputs": [],
   "source": [
    "def get_hamiltonian(L,J):\n",
    "  XX_t = [('XX',[i,i+1],-J)for i in range(0,L-1)]\n",
    "  YY_t = [('YY',[i,i+1],-J)for i in range(0,L-1)]\n",
    "  ZZ_t = [('ZZ',[i,i+1],-J)for i in range(0,L-1)]\n",
    "  hamiltonian= SparsePauliOp.from_sparse_list([*XX_t,*YY_t,*ZZ_t],num_qubits=L)\n",
    "  return hamiltonian"
   ]
  },
  {
   "cell_type": "code",
   "execution_count": 22,
   "id": "715f0595",
   "metadata": {},
   "outputs": [],
   "source": [
    "H=get_hamiltonian(2,1)"
   ]
  },
  {
   "cell_type": "code",
   "execution_count": 23,
   "id": "4032e698",
   "metadata": {},
   "outputs": [
    {
     "data": {
      "text/plain": [
       "SparsePauliOp(['XX', 'YY', 'ZZ'],\n",
       "              coeffs=[-1.+0.j, -1.+0.j, -1.+0.j])"
      ]
     },
     "execution_count": 23,
     "metadata": {},
     "output_type": "execute_result"
    }
   ],
   "source": [
    "H"
   ]
  },
  {
   "cell_type": "code",
   "execution_count": 24,
   "id": "63d15270",
   "metadata": {},
   "outputs": [],
   "source": [
    "from qiskit.algorithms import *"
   ]
  },
  {
   "cell_type": "code",
   "execution_count": 28,
   "id": "06caa52c",
   "metadata": {},
   "outputs": [],
   "source": [
    "initial_state=Statevector.from_label('00')"
   ]
  },
  {
   "cell_type": "code",
   "execution_count": 29,
   "id": "008690ad",
   "metadata": {},
   "outputs": [],
   "source": [
    "HPE=HamiltonianPhaseEstimation(5,sampler=sampler)"
   ]
  },
  {
   "cell_type": "code",
   "execution_count": 30,
   "id": "bb779452",
   "metadata": {},
   "outputs": [
    {
     "ename": "AlgorithmError",
     "evalue": "'The primitive job failed!'",
     "output_type": "error",
     "traceback": [
      "\u001b[0;31m---------------------------------------------------------------------------\u001b[0m",
      "\u001b[0;31merror\u001b[0m                                     Traceback (most recent call last)",
      "File \u001b[0;32m~/anaconda3/lib/python3.10/site-packages/qiskit/algorithms/phase_estimators/phase_estimation.py:230\u001b[0m, in \u001b[0;36mPhaseEstimation.estimate_from_pe_circuit\u001b[0;34m(self, pe_circuit, num_unitary_qubits)\u001b[0m\n\u001b[1;32m    229\u001b[0m     circuit_job \u001b[38;5;241m=\u001b[39m \u001b[38;5;28mself\u001b[39m\u001b[38;5;241m.\u001b[39m_sampler\u001b[38;5;241m.\u001b[39mrun([pe_circuit])\n\u001b[0;32m--> 230\u001b[0m     circuit_result \u001b[38;5;241m=\u001b[39m \u001b[43mcircuit_job\u001b[49m\u001b[38;5;241;43m.\u001b[39;49m\u001b[43mresult\u001b[49m\u001b[43m(\u001b[49m\u001b[43m)\u001b[49m\n\u001b[1;32m    231\u001b[0m \u001b[38;5;28;01mexcept\u001b[39;00m \u001b[38;5;167;01mException\u001b[39;00m \u001b[38;5;28;01mas\u001b[39;00m exc:\n",
      "File \u001b[0;32m~/anaconda3/lib/python3.10/site-packages/qiskit_ibm_runtime/runtime_job.py:216\u001b[0m, in \u001b[0;36mRuntimeJob.result\u001b[0;34m(self, timeout, decoder)\u001b[0m\n\u001b[1;32m    215\u001b[0m \u001b[38;5;28;01mif\u001b[39;00m \u001b[38;5;28mself\u001b[39m\u001b[38;5;241m.\u001b[39m_results \u001b[38;5;129;01mis\u001b[39;00m \u001b[38;5;28;01mNone\u001b[39;00m \u001b[38;5;129;01mor\u001b[39;00m (_decoder \u001b[38;5;241m!=\u001b[39m \u001b[38;5;28mself\u001b[39m\u001b[38;5;241m.\u001b[39m_final_result_decoder):\n\u001b[0;32m--> 216\u001b[0m     \u001b[38;5;28;43mself\u001b[39;49m\u001b[38;5;241;43m.\u001b[39;49m\u001b[43mwait_for_final_state\u001b[49m\u001b[43m(\u001b[49m\u001b[43mtimeout\u001b[49m\u001b[38;5;241;43m=\u001b[39;49m\u001b[43mtimeout\u001b[49m\u001b[43m)\u001b[49m\n\u001b[1;32m    217\u001b[0m     \u001b[38;5;28;01mif\u001b[39;00m \u001b[38;5;28mself\u001b[39m\u001b[38;5;241m.\u001b[39m_status \u001b[38;5;241m==\u001b[39m JobStatus\u001b[38;5;241m.\u001b[39mERROR:\n",
      "File \u001b[0;32m~/anaconda3/lib/python3.10/site-packages/qiskit_ibm_runtime/runtime_job.py:307\u001b[0m, in \u001b[0;36mRuntimeJob.wait_for_final_state\u001b[0;34m(self, timeout)\u001b[0m\n\u001b[1;32m    305\u001b[0m \u001b[38;5;66;03m# poll for status after stream has closed until status is final\u001b[39;00m\n\u001b[1;32m    306\u001b[0m \u001b[38;5;66;03m# because status doesn't become final as soon as stream closes\u001b[39;00m\n\u001b[0;32m--> 307\u001b[0m status \u001b[38;5;241m=\u001b[39m \u001b[38;5;28;43mself\u001b[39;49m\u001b[38;5;241;43m.\u001b[39;49m\u001b[43mstatus\u001b[49m\u001b[43m(\u001b[49m\u001b[43m)\u001b[49m\n\u001b[1;32m    308\u001b[0m \u001b[38;5;28;01mwhile\u001b[39;00m status \u001b[38;5;129;01mnot\u001b[39;00m \u001b[38;5;129;01min\u001b[39;00m JOB_FINAL_STATES:\n",
      "File \u001b[0;32m~/anaconda3/lib/python3.10/site-packages/qiskit_ibm_runtime/runtime_job.py:272\u001b[0m, in \u001b[0;36mRuntimeJob.status\u001b[0;34m(self)\u001b[0m\n\u001b[1;32m    267\u001b[0m \u001b[38;5;124;03m\"\"\"Return the status of the job.\u001b[39;00m\n\u001b[1;32m    268\u001b[0m \n\u001b[1;32m    269\u001b[0m \u001b[38;5;124;03mReturns:\u001b[39;00m\n\u001b[1;32m    270\u001b[0m \u001b[38;5;124;03m    Status of this job.\u001b[39;00m\n\u001b[1;32m    271\u001b[0m \u001b[38;5;124;03m\"\"\"\u001b[39;00m\n\u001b[0;32m--> 272\u001b[0m \u001b[38;5;28;43mself\u001b[39;49m\u001b[38;5;241;43m.\u001b[39;49m\u001b[43m_set_status_and_error_message\u001b[49m\u001b[43m(\u001b[49m\u001b[43m)\u001b[49m\n\u001b[1;32m    273\u001b[0m \u001b[38;5;28;01mreturn\u001b[39;00m \u001b[38;5;28mself\u001b[39m\u001b[38;5;241m.\u001b[39m_status\n",
      "File \u001b[0;32m~/anaconda3/lib/python3.10/site-packages/qiskit_ibm_runtime/runtime_job.py:414\u001b[0m, in \u001b[0;36mRuntimeJob._set_status_and_error_message\u001b[0;34m(self)\u001b[0m\n\u001b[1;32m    413\u001b[0m \u001b[38;5;28;01mif\u001b[39;00m \u001b[38;5;28mself\u001b[39m\u001b[38;5;241m.\u001b[39m_status \u001b[38;5;129;01mnot\u001b[39;00m \u001b[38;5;129;01min\u001b[39;00m JOB_FINAL_STATES:\n\u001b[0;32m--> 414\u001b[0m     response \u001b[38;5;241m=\u001b[39m \u001b[38;5;28;43mself\u001b[39;49m\u001b[38;5;241;43m.\u001b[39;49m\u001b[43m_api_client\u001b[49m\u001b[38;5;241;43m.\u001b[39;49m\u001b[43mjob_get\u001b[49m\u001b[43m(\u001b[49m\u001b[43mjob_id\u001b[49m\u001b[38;5;241;43m=\u001b[39;49m\u001b[38;5;28;43mself\u001b[39;49m\u001b[38;5;241;43m.\u001b[39;49m\u001b[43mjob_id\u001b[49m\u001b[43m(\u001b[49m\u001b[43m)\u001b[49m\u001b[43m)\u001b[49m\n\u001b[1;32m    415\u001b[0m     \u001b[38;5;28mself\u001b[39m\u001b[38;5;241m.\u001b[39m_set_status(response)\n",
      "File \u001b[0;32m~/anaconda3/lib/python3.10/site-packages/qiskit_ibm_runtime/api/clients/runtime.py:214\u001b[0m, in \u001b[0;36mRuntimeClient.job_get\u001b[0;34m(self, job_id, exclude_params)\u001b[0m\n\u001b[1;32m    206\u001b[0m \u001b[38;5;124;03m\"\"\"Get job data.\u001b[39;00m\n\u001b[1;32m    207\u001b[0m \n\u001b[1;32m    208\u001b[0m \u001b[38;5;124;03mArgs:\u001b[39;00m\n\u001b[0;32m   (...)\u001b[0m\n\u001b[1;32m    212\u001b[0m \u001b[38;5;124;03m    JSON response.\u001b[39;00m\n\u001b[1;32m    213\u001b[0m \u001b[38;5;124;03m\"\"\"\u001b[39;00m\n\u001b[0;32m--> 214\u001b[0m response \u001b[38;5;241m=\u001b[39m \u001b[38;5;28;43mself\u001b[39;49m\u001b[38;5;241;43m.\u001b[39;49m\u001b[43m_api\u001b[49m\u001b[38;5;241;43m.\u001b[39;49m\u001b[43mprogram_job\u001b[49m\u001b[43m(\u001b[49m\u001b[43mjob_id\u001b[49m\u001b[43m)\u001b[49m\u001b[38;5;241;43m.\u001b[39;49m\u001b[43mget\u001b[49m\u001b[43m(\u001b[49m\u001b[43mexclude_params\u001b[49m\u001b[38;5;241;43m=\u001b[39;49m\u001b[43mexclude_params\u001b[49m\u001b[43m)\u001b[49m\n\u001b[1;32m    215\u001b[0m logger\u001b[38;5;241m.\u001b[39mdebug(\u001b[38;5;124m\"\u001b[39m\u001b[38;5;124mRuntime job get response: \u001b[39m\u001b[38;5;132;01m%s\u001b[39;00m\u001b[38;5;124m\"\u001b[39m, response)\n",
      "File \u001b[0;32m~/anaconda3/lib/python3.10/site-packages/qiskit_ibm_provider/api/rest/program_job.py:62\u001b[0m, in \u001b[0;36mProgramJob.get\u001b[0;34m(self, exclude_params)\u001b[0m\n\u001b[1;32m     61\u001b[0m     payload[\u001b[38;5;124m\"\u001b[39m\u001b[38;5;124mexclude_params\u001b[39m\u001b[38;5;124m\"\u001b[39m] \u001b[38;5;241m=\u001b[39m \u001b[38;5;124m\"\u001b[39m\u001b[38;5;124mtrue\u001b[39m\u001b[38;5;124m\"\u001b[39m\n\u001b[0;32m---> 62\u001b[0m \u001b[38;5;28;01mreturn\u001b[39;00m \u001b[38;5;28;43mself\u001b[39;49m\u001b[38;5;241;43m.\u001b[39;49m\u001b[43msession\u001b[49m\u001b[38;5;241;43m.\u001b[39;49m\u001b[43mget\u001b[49m\u001b[43m(\u001b[49m\u001b[38;5;28;43mself\u001b[39;49m\u001b[38;5;241;43m.\u001b[39;49m\u001b[43mget_url\u001b[49m\u001b[43m(\u001b[49m\u001b[38;5;124;43m\"\u001b[39;49m\u001b[38;5;124;43mself\u001b[39;49m\u001b[38;5;124;43m\"\u001b[39;49m\u001b[43m)\u001b[49m\u001b[43m,\u001b[49m\u001b[43m \u001b[49m\u001b[43mparams\u001b[49m\u001b[38;5;241;43m=\u001b[39;49m\u001b[43mpayload\u001b[49m\u001b[43m)\u001b[49m\u001b[38;5;241;43m.\u001b[39;49m\u001b[43mjson\u001b[49m\u001b[43m(\u001b[49m\n\u001b[1;32m     63\u001b[0m \u001b[43m    \u001b[49m\u001b[38;5;28;43mcls\u001b[39;49m\u001b[38;5;241;43m=\u001b[39;49m\u001b[43mRuntimeDecoder\u001b[49m\n\u001b[1;32m     64\u001b[0m \u001b[43m\u001b[49m\u001b[43m)\u001b[49m\n",
      "File \u001b[0;32m~/anaconda3/lib/python3.10/site-packages/requests/models.py:971\u001b[0m, in \u001b[0;36mResponse.json\u001b[0;34m(self, **kwargs)\u001b[0m\n\u001b[1;32m    970\u001b[0m \u001b[38;5;28;01mtry\u001b[39;00m:\n\u001b[0;32m--> 971\u001b[0m     \u001b[38;5;28;01mreturn\u001b[39;00m \u001b[43mcomplexjson\u001b[49m\u001b[38;5;241;43m.\u001b[39;49m\u001b[43mloads\u001b[49m\u001b[43m(\u001b[49m\u001b[38;5;28;43mself\u001b[39;49m\u001b[38;5;241;43m.\u001b[39;49m\u001b[43mtext\u001b[49m\u001b[43m,\u001b[49m\u001b[43m \u001b[49m\u001b[38;5;241;43m*\u001b[39;49m\u001b[38;5;241;43m*\u001b[39;49m\u001b[43mkwargs\u001b[49m\u001b[43m)\u001b[49m\n\u001b[1;32m    972\u001b[0m \u001b[38;5;28;01mexcept\u001b[39;00m JSONDecodeError \u001b[38;5;28;01mas\u001b[39;00m e:\n\u001b[1;32m    973\u001b[0m     \u001b[38;5;66;03m# Catch JSON-related errors and raise as requests.JSONDecodeError\u001b[39;00m\n\u001b[1;32m    974\u001b[0m     \u001b[38;5;66;03m# This aliases json.JSONDecodeError and simplejson.JSONDecodeError\u001b[39;00m\n",
      "File \u001b[0;32m~/anaconda3/lib/python3.10/json/__init__.py:359\u001b[0m, in \u001b[0;36mloads\u001b[0;34m(s, cls, object_hook, parse_float, parse_int, parse_constant, object_pairs_hook, **kw)\u001b[0m\n\u001b[1;32m    358\u001b[0m     kw[\u001b[38;5;124m'\u001b[39m\u001b[38;5;124mparse_constant\u001b[39m\u001b[38;5;124m'\u001b[39m] \u001b[38;5;241m=\u001b[39m parse_constant\n\u001b[0;32m--> 359\u001b[0m \u001b[38;5;28;01mreturn\u001b[39;00m \u001b[38;5;28;43mcls\u001b[39;49m\u001b[43m(\u001b[49m\u001b[38;5;241;43m*\u001b[39;49m\u001b[38;5;241;43m*\u001b[39;49m\u001b[43mkw\u001b[49m\u001b[43m)\u001b[49m\u001b[38;5;241;43m.\u001b[39;49m\u001b[43mdecode\u001b[49m\u001b[43m(\u001b[49m\u001b[43ms\u001b[49m\u001b[43m)\u001b[49m\n",
      "File \u001b[0;32m~/anaconda3/lib/python3.10/json/decoder.py:337\u001b[0m, in \u001b[0;36mJSONDecoder.decode\u001b[0;34m(self, s, _w)\u001b[0m\n\u001b[1;32m    333\u001b[0m \u001b[38;5;124;03m\"\"\"Return the Python representation of ``s`` (a ``str`` instance\u001b[39;00m\n\u001b[1;32m    334\u001b[0m \u001b[38;5;124;03mcontaining a JSON document).\u001b[39;00m\n\u001b[1;32m    335\u001b[0m \n\u001b[1;32m    336\u001b[0m \u001b[38;5;124;03m\"\"\"\u001b[39;00m\n\u001b[0;32m--> 337\u001b[0m obj, end \u001b[38;5;241m=\u001b[39m \u001b[38;5;28;43mself\u001b[39;49m\u001b[38;5;241;43m.\u001b[39;49m\u001b[43mraw_decode\u001b[49m\u001b[43m(\u001b[49m\u001b[43ms\u001b[49m\u001b[43m,\u001b[49m\u001b[43m \u001b[49m\u001b[43midx\u001b[49m\u001b[38;5;241;43m=\u001b[39;49m\u001b[43m_w\u001b[49m\u001b[43m(\u001b[49m\u001b[43ms\u001b[49m\u001b[43m,\u001b[49m\u001b[43m \u001b[49m\u001b[38;5;241;43m0\u001b[39;49m\u001b[43m)\u001b[49m\u001b[38;5;241;43m.\u001b[39;49m\u001b[43mend\u001b[49m\u001b[43m(\u001b[49m\u001b[43m)\u001b[49m\u001b[43m)\u001b[49m\n\u001b[1;32m    338\u001b[0m end \u001b[38;5;241m=\u001b[39m _w(s, end)\u001b[38;5;241m.\u001b[39mend()\n",
      "File \u001b[0;32m~/anaconda3/lib/python3.10/json/decoder.py:353\u001b[0m, in \u001b[0;36mJSONDecoder.raw_decode\u001b[0;34m(self, s, idx)\u001b[0m\n\u001b[1;32m    352\u001b[0m \u001b[38;5;28;01mtry\u001b[39;00m:\n\u001b[0;32m--> 353\u001b[0m     obj, end \u001b[38;5;241m=\u001b[39m \u001b[38;5;28;43mself\u001b[39;49m\u001b[38;5;241;43m.\u001b[39;49m\u001b[43mscan_once\u001b[49m\u001b[43m(\u001b[49m\u001b[43ms\u001b[49m\u001b[43m,\u001b[49m\u001b[43m \u001b[49m\u001b[43midx\u001b[49m\u001b[43m)\u001b[49m\n\u001b[1;32m    354\u001b[0m \u001b[38;5;28;01mexcept\u001b[39;00m \u001b[38;5;167;01mStopIteration\u001b[39;00m \u001b[38;5;28;01mas\u001b[39;00m err:\n",
      "File \u001b[0;32m~/anaconda3/lib/python3.10/site-packages/qiskit_ibm_provider/utils/json.py:297\u001b[0m, in \u001b[0;36mRuntimeDecoder.object_hook\u001b[0;34m(self, obj)\u001b[0m\n\u001b[1;32m    296\u001b[0m \u001b[38;5;28;01mif\u001b[39;00m obj_type \u001b[38;5;241m==\u001b[39m \u001b[38;5;124m\"\u001b[39m\u001b[38;5;124mQuantumCircuit\u001b[39m\u001b[38;5;124m\"\u001b[39m:\n\u001b[0;32m--> 297\u001b[0m     \u001b[38;5;28;01mreturn\u001b[39;00m \u001b[43m_decode_and_deserialize\u001b[49m\u001b[43m(\u001b[49m\u001b[43mobj_val\u001b[49m\u001b[43m,\u001b[49m\u001b[43m \u001b[49m\u001b[43mload\u001b[49m\u001b[43m)\u001b[49m[\u001b[38;5;241m0\u001b[39m]\n\u001b[1;32m    298\u001b[0m \u001b[38;5;28;01mif\u001b[39;00m obj_type \u001b[38;5;241m==\u001b[39m \u001b[38;5;124m\"\u001b[39m\u001b[38;5;124mParameter\u001b[39m\u001b[38;5;124m\"\u001b[39m:\n",
      "File \u001b[0;32m~/anaconda3/lib/python3.10/site-packages/qiskit_ibm_provider/utils/json.py:125\u001b[0m, in \u001b[0;36m_decode_and_deserialize\u001b[0;34m(data, deserializer, decompress)\u001b[0m\n\u001b[1;32m    124\u001b[0m buff\u001b[38;5;241m.\u001b[39mseek(\u001b[38;5;241m0\u001b[39m)\n\u001b[0;32m--> 125\u001b[0m \u001b[38;5;28;01mreturn\u001b[39;00m \u001b[43mdeserializer\u001b[49m\u001b[43m(\u001b[49m\u001b[43mbuff\u001b[49m\u001b[43m)\u001b[49m\n",
      "File \u001b[0;32m~/anaconda3/lib/python3.10/site-packages/qiskit_ibm_provider/qpy/interface.py:274\u001b[0m, in \u001b[0;36mload\u001b[0;34m(file_obj, metadata_deserializer)\u001b[0m\n\u001b[1;32m    272\u001b[0m \u001b[38;5;28;01mfor\u001b[39;00m _ \u001b[38;5;129;01min\u001b[39;00m \u001b[38;5;28mrange\u001b[39m(data\u001b[38;5;241m.\u001b[39mnum_programs):\n\u001b[1;32m    273\u001b[0m     programs\u001b[38;5;241m.\u001b[39mappend(\n\u001b[0;32m--> 274\u001b[0m         \u001b[43mloader\u001b[49m\u001b[43m(\u001b[49m\u001b[43m  \u001b[49m\u001b[38;5;66;43;03m# type: ignore[no-untyped-call]\u001b[39;49;00m\n\u001b[1;32m    275\u001b[0m \u001b[43m            \u001b[49m\u001b[43mfile_obj\u001b[49m\u001b[43m,\u001b[49m\n\u001b[1;32m    276\u001b[0m \u001b[43m            \u001b[49m\u001b[43mdata\u001b[49m\u001b[38;5;241;43m.\u001b[39;49m\u001b[43mqpy_version\u001b[49m\u001b[43m,\u001b[49m\n\u001b[1;32m    277\u001b[0m \u001b[43m            \u001b[49m\u001b[43mmetadata_deserializer\u001b[49m\u001b[38;5;241;43m=\u001b[39;49m\u001b[43mmetadata_deserializer\u001b[49m\u001b[43m,\u001b[49m\n\u001b[1;32m    278\u001b[0m \u001b[43m        \u001b[49m\u001b[43m)\u001b[49m\n\u001b[1;32m    279\u001b[0m     )\n\u001b[1;32m    280\u001b[0m \u001b[38;5;28;01mreturn\u001b[39;00m programs\n",
      "File \u001b[0;32m~/anaconda3/lib/python3.10/site-packages/qiskit_ibm_provider/qpy/binary_io/circuits.py:1001\u001b[0m, in \u001b[0;36mread_circuit\u001b[0;34m(file_obj, version, metadata_deserializer)\u001b[0m\n\u001b[1;32m    992\u001b[0m circ \u001b[38;5;241m=\u001b[39m QuantumCircuit(\n\u001b[1;32m    993\u001b[0m     out_bits[\u001b[38;5;124m\"\u001b[39m\u001b[38;5;124mq\u001b[39m\u001b[38;5;124m\"\u001b[39m],\n\u001b[1;32m    994\u001b[0m     out_bits[\u001b[38;5;124m\"\u001b[39m\u001b[38;5;124mc\u001b[39m\u001b[38;5;124m\"\u001b[39m],\n\u001b[0;32m   (...)\u001b[0m\n\u001b[1;32m    998\u001b[0m     metadata\u001b[38;5;241m=\u001b[39mmetadata,\n\u001b[1;32m    999\u001b[0m )\n\u001b[0;32m-> 1001\u001b[0m custom_operations \u001b[38;5;241m=\u001b[39m \u001b[43m_read_custom_operations\u001b[49m\u001b[43m(\u001b[49m\u001b[43mfile_obj\u001b[49m\u001b[43m,\u001b[49m\u001b[43m \u001b[49m\u001b[43mversion\u001b[49m\u001b[43m,\u001b[49m\u001b[43m \u001b[49m\u001b[43mvectors\u001b[49m\u001b[43m)\u001b[49m\n\u001b[1;32m   1002\u001b[0m \u001b[38;5;28;01mfor\u001b[39;00m _instruction \u001b[38;5;129;01min\u001b[39;00m \u001b[38;5;28mrange\u001b[39m(num_instructions):\n",
      "File \u001b[0;32m~/anaconda3/lib/python3.10/site-packages/qiskit_ibm_provider/qpy/binary_io/circuits.py:445\u001b[0m, in \u001b[0;36m_read_custom_operations\u001b[0;34m(file_obj, version, vectors)\u001b[0m\n\u001b[1;32m    444\u001b[0m \u001b[38;5;28;01mif\u001b[39;00m version \u001b[38;5;241m<\u001b[39m \u001b[38;5;241m3\u001b[39m \u001b[38;5;129;01mor\u001b[39;00m \u001b[38;5;129;01mnot\u001b[39;00m name\u001b[38;5;241m.\u001b[39mstartswith(\u001b[38;5;124mr\u001b[39m\u001b[38;5;124m\"\u001b[39m\u001b[38;5;124m###PauliEvolutionGate_\u001b[39m\u001b[38;5;124m\"\u001b[39m):\n\u001b[0;32m--> 445\u001b[0m     definition_circuit \u001b[38;5;241m=\u001b[39m \u001b[43mcommon\u001b[49m\u001b[38;5;241;43m.\u001b[39;49m\u001b[43mdata_from_binary\u001b[49m\u001b[43m(\u001b[49m\n\u001b[1;32m    446\u001b[0m \u001b[43m        \u001b[49m\u001b[43mdef_binary\u001b[49m\u001b[43m,\u001b[49m\u001b[43m \u001b[49m\u001b[43mread_circuit\u001b[49m\u001b[43m,\u001b[49m\u001b[43m \u001b[49m\u001b[43mversion\u001b[49m\u001b[38;5;241;43m=\u001b[39;49m\u001b[43mversion\u001b[49m\n\u001b[1;32m    447\u001b[0m \u001b[43m    \u001b[49m\u001b[43m)\u001b[49m\n\u001b[1;32m    448\u001b[0m \u001b[38;5;28;01melif\u001b[39;00m name\u001b[38;5;241m.\u001b[39mstartswith(\u001b[38;5;124mr\u001b[39m\u001b[38;5;124m\"\u001b[39m\u001b[38;5;124m###PauliEvolutionGate_\u001b[39m\u001b[38;5;124m\"\u001b[39m):\n",
      "File \u001b[0;32m~/anaconda3/lib/python3.10/site-packages/qiskit_ibm_provider/qpy/common.py:269\u001b[0m, in \u001b[0;36mdata_from_binary\u001b[0;34m(binary_data, deserializer, **kwargs)\u001b[0m\n\u001b[1;32m    268\u001b[0m     container\u001b[38;5;241m.\u001b[39mseek(\u001b[38;5;241m0\u001b[39m)\n\u001b[0;32m--> 269\u001b[0m     obj \u001b[38;5;241m=\u001b[39m \u001b[43mdeserializer\u001b[49m\u001b[43m(\u001b[49m\u001b[43mcontainer\u001b[49m\u001b[43m,\u001b[49m\u001b[43m \u001b[49m\u001b[38;5;241;43m*\u001b[39;49m\u001b[38;5;241;43m*\u001b[39;49m\u001b[43mkwargs\u001b[49m\u001b[43m)\u001b[49m\n\u001b[1;32m    270\u001b[0m \u001b[38;5;28;01mreturn\u001b[39;00m obj\n",
      "File \u001b[0;32m~/anaconda3/lib/python3.10/site-packages/qiskit_ibm_provider/qpy/binary_io/circuits.py:1001\u001b[0m, in \u001b[0;36mread_circuit\u001b[0;34m(file_obj, version, metadata_deserializer)\u001b[0m\n\u001b[1;32m    992\u001b[0m circ \u001b[38;5;241m=\u001b[39m QuantumCircuit(\n\u001b[1;32m    993\u001b[0m     out_bits[\u001b[38;5;124m\"\u001b[39m\u001b[38;5;124mq\u001b[39m\u001b[38;5;124m\"\u001b[39m],\n\u001b[1;32m    994\u001b[0m     out_bits[\u001b[38;5;124m\"\u001b[39m\u001b[38;5;124mc\u001b[39m\u001b[38;5;124m\"\u001b[39m],\n\u001b[0;32m   (...)\u001b[0m\n\u001b[1;32m    998\u001b[0m     metadata\u001b[38;5;241m=\u001b[39mmetadata,\n\u001b[1;32m    999\u001b[0m )\n\u001b[0;32m-> 1001\u001b[0m custom_operations \u001b[38;5;241m=\u001b[39m \u001b[43m_read_custom_operations\u001b[49m\u001b[43m(\u001b[49m\u001b[43mfile_obj\u001b[49m\u001b[43m,\u001b[49m\u001b[43m \u001b[49m\u001b[43mversion\u001b[49m\u001b[43m,\u001b[49m\u001b[43m \u001b[49m\u001b[43mvectors\u001b[49m\u001b[43m)\u001b[49m\n\u001b[1;32m   1002\u001b[0m \u001b[38;5;28;01mfor\u001b[39;00m _instruction \u001b[38;5;129;01min\u001b[39;00m \u001b[38;5;28mrange\u001b[39m(num_instructions):\n",
      "File \u001b[0;32m~/anaconda3/lib/python3.10/site-packages/qiskit_ibm_provider/qpy/binary_io/circuits.py:433\u001b[0m, in \u001b[0;36m_read_custom_operations\u001b[0;34m(file_obj, version, vectors)\u001b[0m\n\u001b[1;32m    431\u001b[0m \u001b[38;5;28;01melse\u001b[39;00m:\n\u001b[1;32m    432\u001b[0m     data \u001b[38;5;241m=\u001b[39m formats\u001b[38;5;241m.\u001b[39mCUSTOM_CIRCUIT_INST_DEF_V2\u001b[38;5;241m.\u001b[39m_make(\n\u001b[0;32m--> 433\u001b[0m         \u001b[43mstruct\u001b[49m\u001b[38;5;241;43m.\u001b[39;49m\u001b[43munpack\u001b[49m\u001b[43m(\u001b[49m\n\u001b[1;32m    434\u001b[0m \u001b[43m            \u001b[49m\u001b[43mformats\u001b[49m\u001b[38;5;241;43m.\u001b[39;49m\u001b[43mCUSTOM_CIRCUIT_INST_DEF_V2_PACK\u001b[49m\u001b[43m,\u001b[49m\n\u001b[1;32m    435\u001b[0m \u001b[43m            \u001b[49m\u001b[43mfile_obj\u001b[49m\u001b[38;5;241;43m.\u001b[39;49m\u001b[43mread\u001b[49m\u001b[43m(\u001b[49m\u001b[43mformats\u001b[49m\u001b[38;5;241;43m.\u001b[39;49m\u001b[43mCUSTOM_CIRCUIT_INST_DEF_V2_SIZE\u001b[49m\u001b[43m)\u001b[49m\u001b[43m,\u001b[49m\n\u001b[1;32m    436\u001b[0m \u001b[43m        \u001b[49m\u001b[43m)\u001b[49m\n\u001b[1;32m    437\u001b[0m     )\n\u001b[1;32m    439\u001b[0m name \u001b[38;5;241m=\u001b[39m file_obj\u001b[38;5;241m.\u001b[39mread(data\u001b[38;5;241m.\u001b[39mgate_name_size)\u001b[38;5;241m.\u001b[39mdecode(common\u001b[38;5;241m.\u001b[39mENCODE)\n",
      "\u001b[0;31merror\u001b[0m: unpack requires a buffer of 36 bytes",
      "\nThe above exception was the direct cause of the following exception:\n",
      "\u001b[0;31mAlgorithmError\u001b[0m                            Traceback (most recent call last)",
      "Cell \u001b[0;32mIn[30], line 1\u001b[0m\n\u001b[0;32m----> 1\u001b[0m QWERTY\u001b[38;5;241m=\u001b[39m\u001b[43mHPE\u001b[49m\u001b[38;5;241;43m.\u001b[39;49m\u001b[43mestimate\u001b[49m\u001b[43m(\u001b[49m\u001b[43mH\u001b[49m\u001b[43m,\u001b[49m\u001b[43mstate_preparation\u001b[49m\u001b[38;5;241;43m=\u001b[39;49m\u001b[43minitial_state\u001b[49m\u001b[43m)\u001b[49m\n",
      "File \u001b[0;32m~/anaconda3/lib/python3.10/site-packages/qiskit/algorithms/phase_estimators/hamiltonian_phase_estimation.py:263\u001b[0m, in \u001b[0;36mHamiltonianPhaseEstimation.estimate\u001b[0;34m(self, hamiltonian, state_preparation, evolution, bound)\u001b[0m\n\u001b[1;32m    261\u001b[0m     state_preparation \u001b[38;5;241m=\u001b[39m state_preparation\u001b[38;5;241m.\u001b[39mto_circuit_op()\u001b[38;5;241m.\u001b[39mto_circuit()\n\u001b[1;32m    262\u001b[0m \u001b[38;5;66;03m# run phase estimation\u001b[39;00m\n\u001b[0;32m--> 263\u001b[0m phase_estimation_result \u001b[38;5;241m=\u001b[39m \u001b[38;5;28;43mself\u001b[39;49m\u001b[38;5;241;43m.\u001b[39;49m\u001b[43m_phase_estimation\u001b[49m\u001b[38;5;241;43m.\u001b[39;49m\u001b[43mestimate\u001b[49m\u001b[43m(\u001b[49m\n\u001b[1;32m    264\u001b[0m \u001b[43m    \u001b[49m\u001b[43munitary\u001b[49m\u001b[38;5;241;43m=\u001b[39;49m\u001b[43munitary\u001b[49m\u001b[43m,\u001b[49m\u001b[43m \u001b[49m\u001b[43mstate_preparation\u001b[49m\u001b[38;5;241;43m=\u001b[39;49m\u001b[43mstate_preparation\u001b[49m\n\u001b[1;32m    265\u001b[0m \u001b[43m\u001b[49m\u001b[43m)\u001b[49m\n\u001b[1;32m    266\u001b[0m \u001b[38;5;28;01mreturn\u001b[39;00m HamiltonianPhaseEstimationResult(\n\u001b[1;32m    267\u001b[0m     phase_estimation_result\u001b[38;5;241m=\u001b[39mphase_estimation_result,\n\u001b[1;32m    268\u001b[0m     id_coefficient\u001b[38;5;241m=\u001b[39mid_coefficient,\n\u001b[1;32m    269\u001b[0m     phase_estimation_scale\u001b[38;5;241m=\u001b[39mpe_scale,\n\u001b[1;32m    270\u001b[0m )\n",
      "File \u001b[0;32m~/anaconda3/lib/python3.10/site-packages/qiskit/algorithms/phase_estimators/phase_estimation.py:268\u001b[0m, in \u001b[0;36mPhaseEstimation.estimate\u001b[0;34m(self, unitary, state_preparation)\u001b[0m\n\u001b[1;32m    265\u001b[0m pe_circuit \u001b[38;5;241m=\u001b[39m \u001b[38;5;28mself\u001b[39m\u001b[38;5;241m.\u001b[39mconstruct_circuit(unitary, state_preparation)\n\u001b[1;32m    266\u001b[0m num_unitary_qubits \u001b[38;5;241m=\u001b[39m unitary\u001b[38;5;241m.\u001b[39mnum_qubits\n\u001b[0;32m--> 268\u001b[0m \u001b[38;5;28;01mreturn\u001b[39;00m \u001b[38;5;28;43mself\u001b[39;49m\u001b[38;5;241;43m.\u001b[39;49m\u001b[43mestimate_from_pe_circuit\u001b[49m\u001b[43m(\u001b[49m\u001b[43mpe_circuit\u001b[49m\u001b[43m,\u001b[49m\u001b[43m \u001b[49m\u001b[43mnum_unitary_qubits\u001b[49m\u001b[43m)\u001b[49m\n",
      "File \u001b[0;32m~/anaconda3/lib/python3.10/site-packages/qiskit/algorithms/phase_estimators/phase_estimation.py:232\u001b[0m, in \u001b[0;36mPhaseEstimation.estimate_from_pe_circuit\u001b[0;34m(self, pe_circuit, num_unitary_qubits)\u001b[0m\n\u001b[1;32m    230\u001b[0m     circuit_result \u001b[38;5;241m=\u001b[39m circuit_job\u001b[38;5;241m.\u001b[39mresult()\n\u001b[1;32m    231\u001b[0m \u001b[38;5;28;01mexcept\u001b[39;00m \u001b[38;5;167;01mException\u001b[39;00m \u001b[38;5;28;01mas\u001b[39;00m exc:\n\u001b[0;32m--> 232\u001b[0m     \u001b[38;5;28;01mraise\u001b[39;00m AlgorithmError(\u001b[38;5;124m\"\u001b[39m\u001b[38;5;124mThe primitive job failed!\u001b[39m\u001b[38;5;124m\"\u001b[39m) \u001b[38;5;28;01mfrom\u001b[39;00m \u001b[38;5;21;01mexc\u001b[39;00m\n\u001b[1;32m    233\u001b[0m phases \u001b[38;5;241m=\u001b[39m circuit_result\u001b[38;5;241m.\u001b[39mquasi_dists[\u001b[38;5;241m0\u001b[39m]\n\u001b[1;32m    234\u001b[0m phases_bitstrings \u001b[38;5;241m=\u001b[39m {}\n",
      "\u001b[0;31mAlgorithmError\u001b[0m: 'The primitive job failed!'"
     ]
    }
   ],
   "source": [
    "QWERTY=HPE.estimate(H,state_preparation=initial_state)"
   ]
  },
  {
   "cell_type": "code",
   "execution_count": 31,
   "id": "3b7a6cc8",
   "metadata": {},
   "outputs": [
    {
     "ename": "NameError",
     "evalue": "name 'QWERTY' is not defined",
     "output_type": "error",
     "traceback": [
      "\u001b[0;31m---------------------------------------------------------------------------\u001b[0m",
      "\u001b[0;31mNameError\u001b[0m                                 Traceback (most recent call last)",
      "Cell \u001b[0;32mIn[31], line 1\u001b[0m\n\u001b[0;32m----> 1\u001b[0m HR\u001b[38;5;241m=\u001b[39mHamiltonianPhaseEstimationResult(\u001b[43mQWERTY\u001b[49m,\u001b[38;5;241m1\u001b[39m,\u001b[38;5;241m1\u001b[39m)\n",
      "\u001b[0;31mNameError\u001b[0m: name 'QWERTY' is not defined"
     ]
    }
   ],
   "source": [
    "HR=HamiltonianPhaseEstimationResult(QWERTY,1,1)"
   ]
  },
  {
   "cell_type": "code",
   "execution_count": 24,
   "id": "cfd7ea8a",
   "metadata": {},
   "outputs": [
    {
     "ename": "TypeError",
     "evalue": "'float' object is not callable",
     "output_type": "error",
     "traceback": [
      "\u001b[0;31m---------------------------------------------------------------------------\u001b[0m",
      "\u001b[0;31mTypeError\u001b[0m                                 Traceback (most recent call last)",
      "Cell \u001b[0;32mIn[24], line 1\u001b[0m\n\u001b[0;32m----> 1\u001b[0m \u001b[43mHR\u001b[49m\u001b[38;5;241;43m.\u001b[39;49m\u001b[43mphase\u001b[49m\u001b[43m(\u001b[49m\u001b[43m)\u001b[49m\n",
      "\u001b[0;31mTypeError\u001b[0m: 'float' object is not callable"
     ]
    }
   ],
   "source": [
    "HR.phase()"
   ]
  },
  {
   "cell_type": "code",
   "execution_count": null,
   "id": "628a1b1e",
   "metadata": {},
   "outputs": [],
   "source": []
  }
 ],
 "metadata": {
  "kernelspec": {
   "display_name": "Python 3 (ipykernel)",
   "language": "python",
   "name": "python3"
  },
  "language_info": {
   "codemirror_mode": {
    "name": "ipython",
    "version": 3
   },
   "file_extension": ".py",
   "mimetype": "text/x-python",
   "name": "python",
   "nbconvert_exporter": "python",
   "pygments_lexer": "ipython3",
   "version": "3.11.5"
  }
 },
 "nbformat": 4,
 "nbformat_minor": 5
}
